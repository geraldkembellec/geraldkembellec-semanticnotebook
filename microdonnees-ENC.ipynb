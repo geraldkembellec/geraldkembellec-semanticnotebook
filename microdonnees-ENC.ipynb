{
 "cells": [
  {
   "cell_type": "markdown",
   "metadata": {
    "tags": []
   },
   "source": [
    "# Petit démonstrateur qui injecte des contenus semantiques dans du HTML5 sous forme de microdonnées \n",
    "## ... après une requête SPARQL depuis DBpédia\n",
    "![Logo](data:image/png;base64,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)\n",
    "\n",
    "Ce petit Notebook Jupyter montre :\n",
    "\n",
    "1. Comment **récolter des contenus depuis une base de connaissances**, à l'aide d'une **requête SPARQL**\n",
    "\n",
    "2. Comment intégérer ces données dans du HTML5 en utilisant un des formats de sérialisation (ici les **microdonnées**)."
   ]
  },
  {
   "cell_type": "code",
   "execution_count": 1,
   "metadata": {
    "colab": {
     "base_uri": "https://localhost:8080/"
    },
    "id": "TngmRxMIJnRp",
    "outputId": "d71cae3c-b1f8-4e55-bca3-4b1798d97477"
   },
   "outputs": [
    {
     "name": "stdout",
     "output_type": "stream",
     "text": [
      "Requirement already satisfied: SPARQLWrapper in /opt/conda/lib/python3.9/site-packages (1.8.5)\n",
      "Requirement already satisfied: rdflib>=4.0 in /opt/conda/lib/python3.9/site-packages (from SPARQLWrapper) (6.1.1)\n",
      "Requirement already satisfied: pyparsing in /opt/conda/lib/python3.9/site-packages (from rdflib>=4.0->SPARQLWrapper) (3.0.6)\n",
      "Requirement already satisfied: setuptools in /opt/conda/lib/python3.9/site-packages (from rdflib>=4.0->SPARQLWrapper) (59.4.0)\n",
      "Requirement already satisfied: isodate in /opt/conda/lib/python3.9/site-packages (from rdflib>=4.0->SPARQLWrapper) (0.6.1)\n",
      "Requirement already satisfied: six in /opt/conda/lib/python3.9/site-packages (from isodate->rdflib>=4.0->SPARQLWrapper) (1.16.0)\n",
      "Note: you may need to restart the kernel to use updated packages.\n"
     ]
    }
   ],
   "source": [
    "def libraries():\n",
    "  \"\"\"\n",
    "  This cell installs and loads several needed libraries from Python\n",
    "  ------------------------------------------------------------\n",
    "  This notebook is coded in Python 3\n",
    "  - To display, it uses \n",
    "       + markdown (md)\n",
    "       + and HTML 5 languages (with IPython.core.display)\n",
    "          + Urllib\n",
    "          + Image\n",
    "          + schema.org in microdata for semantic contents\n",
    "   - To query DBpedia\n",
    "       + SPARQL is used (SPARQLWrapper, JSON)\n",
    "  ------------------------------------------------------------\n",
    "  \"\"\"\n",
    "# the query langage is SPARQL, we have to install it with pip\n",
    "# (pip = packages installer for python)\n",
    "%pip install SPARQLWrapper\n",
    "# semantic communication with dbpedia\n",
    "from SPARQLWrapper import SPARQLWrapper, JSON\n",
    "# to draw lovely leaflet maps we need to install and load \"folium\"\n",
    "# to easily display results and use HTML\n",
    "from IPython.core.display import HTML\n",
    "from IPython.display import Image\n",
    "# to fix misencoded URL (i.e. URL of dpPedia pics)\n",
    "import urllib.parse\n",
    "#help(libraries)"
   ]
  },
  {
   "cell_type": "code",
   "execution_count": 3,
   "metadata": {
    "colab": {
     "base_uri": "https://localhost:8080/",
     "height": 536
    },
    "id": "PZAbtJxVUzYw",
    "outputId": "79cf1955-9b8c-493b-df73-445d33cf8db7"
   },
   "outputs": [
    {
     "data": {
      "text/html": [
       "<div itemscope itemtype=\"https://schema.org/DefinedTerm\" id=\"École Nationale des Chartes\"><h2>What DBpedia has to say about <dfn itemprop=\"name\">École Nationale des Chartes</dfn> : </h2><link itemprop=\"url\" href=\"http://dbpedia.org/resource/École_Nationale_des_Chartes\"/><p itemprop=\"description\">The École Nationale des Chartes (French: École nationale des chartes, literally National School of Charters) is a French grande école and a constituent college of Université PSL, specialising in the historical sciences. It was founded in 1821, and was located initially at the National Archives, and later at the Palais de la Sorbonne (5th arrondissement). In October 2014, it moved to 65 rue de Richelieu, opposite the Richelieu-Louvois site of the National Library of France. The school is administered by the Ministry of National Education, Higher Education and Research. It holds the status of a grand établissement. Its students, who are recruited by competitive examination and hold the status of trainee civil servant, receive the qualification of archivist-paleographer after completing a the</p><link itemprop=\"inDefinedTermSet\" href=\"http://dbpedia.org/\"><img itemprop=\"image\" src=\"http://commons.wikimedia.org/wiki/Special:FilePath/Fer_a_cheval_ENC_n05.jpg\" title=\"École Nationale des Chartes\" alt=\"Picture from DPpedia\"></div>"
      ],
      "text/plain": [
       "<IPython.core.display.HTML object>"
      ]
     },
     "metadata": {},
     "output_type": "display_data"
    }
   ],
   "source": [
    "sparql = SPARQLWrapper(\"http://dbpedia.org/sparql\")\n",
    "# Query for the description of \"École_Nationale_des_Chartes\", filtered by language \n",
    "sparql.setQuery(\"\"\"\n",
    "PREFIX dbpedia-owl: <http://dbpedia.org/ontology/>              \n",
    "PREFIX rdfs: <http://www.w3.org/2000/01/rdf-schema#>                \n",
    "SELECT ?label ?comment ?thumbnail\n",
    "WHERE {                                \n",
    "  <http://dbpedia.org/resource/École_Nationale_des_Chartes> rdfs:label ?label .                \n",
    "  <http://dbpedia.org/resource/École_Nationale_des_Chartes> rdfs:comment ?comment .                               \n",
    "  <http://dbpedia.org/resource/École_Nationale_des_Chartes> <http://xmlns.com/foaf/0.1/depiction> ?thumbnail .   \n",
    "FILTER (LANG(?label)='en' AND LANG(?comment)='en')\n",
    "}  \n",
    "LIMIT 1\n",
    "\"\"\")\n",
    "\n",
    "# Convert results to JSON format\n",
    "sparql.setReturnFormat(JSON)\n",
    "result = sparql.query().convert()\n",
    "\n",
    "for hit in result[\"results\"][\"bindings\"]:\n",
    "  abstract=hit[\"comment\"][\"value\"]\n",
    "  pic=hit[\"thumbnail\"][\"value\"]\n",
    "  title=hit[\"label\"][\"value\"]\n",
    "  pic_path='http://commons.wikimedia.org/wiki/Special:FilePath/'\n",
    "  image_file_name=pic.replace('http://commons.wikimedia.org/wiki/Special:FilePath/','')\n",
    "  image_file_name=image_file_name.replace('?width=300','')\n",
    "  #print(image_file_name)\n",
    "  encoded_pic_name = urllib.parse.quote(image_file_name)\n",
    "  # We use microdata to inject some semantic content \n",
    "  # here a definition from dpepia\n",
    "  code_html='<div itemscope itemtype=\"https://schema.org/DefinedTerm\" id=\"'+title+'\">'\n",
    "  code_html+='<h2>What DBpedia has to say about <dfn itemprop=\"name\">'+title+'</dfn> : </h2>'\n",
    "  code_html+='<link itemprop=\"url\" href=\"http://dbpedia.org/resource/École_Nationale_des_Chartes\"/>'\n",
    "  code_html+='<p itemprop=\"description\">'+abstract+'</p>'\n",
    "  code_html+='<link itemprop=\"inDefinedTermSet\" href=\"http://dbpedia.org/\">';\n",
    "  code_html+='<img itemprop=\"image\" src=\"'+pic_path+encoded_pic_name+'\" title=\"'+title+'\" alt=\"Picture from DPpedia\">'\n",
    "  code_html+='</div>'\n",
    "  #print(code_html)\n",
    "  display(HTML(code_html))"
   ]
  },
  {
   "cell_type": "markdown",
   "metadata": {
    "tags": []
   },
   "source": [
    "<hr>\n",
    "<footer id=\"about\">\n",
    "<p style=\"text-align:right\" xmlns:cc=\"http://creativecommons.org/ns#\" xmlns:dct=\"http://purl.org/dc/terms/\">\n",
    "    Démonstrateur de formes sémantiques\n",
    "    <img style=\"height:22px!important;margin-left:3px;vertical-align:text-bottom;\"\n",
    "         src=\"https://mirrors.creativecommons.org/presskit/icons/cc.svg?ref=chooser-v1\">\n",
    "    <img style=\"height:22px!important;margin-left:3px;vertical-align:text-bottom;\"\n",
    "         src=\"https://mirrors.creativecommons.org/presskit/icons/by.svg?ref=chooser-v1\">\n",
    "    <img style=\"height:22px!important;margin-left:3px;vertical-align:text-bottom;\"\n",
    "         src=\"https://mirrors.creativecommons.org/presskit/icons/nc.svg?ref=chooser-v1\">\n",
    "    <img style=\"height:22px!important;margin-left:3px;vertical-align:text-bottom\"\n",
    "         src=\"https://mirrors.creativecommons.org/presskit/icons/sa.svg?ref=chooser-v1\">\n",
    "     <br>\n",
    "     by \n",
    "     <a rel=\"cc:attributionURL dct:creator\" \n",
    "        property=\"cc:attributionName\" \n",
    "        href=\"https://www.dhi-paris.fr/fr/institut/lequipe/equipe-scientifique/gerald-kembellec.html\">\n",
    "         Gérald Kembellec</a> is licensed under \n",
    "     <a href=\"http://creativecommons.org/licenses/by-nc-sa/4.0/?ref=chooser-v1\" \n",
    "        target=\"_blank\" \n",
    "        rel=\"license noopener noreferrer\" style=\"display:inline-block;\">\n",
    "         CC BY-NC-SA 4.0\n",
    "     </a>\n",
    "</p>     \n",
    "    <a id=\"mailme\"\n",
    "       href=\"mailto:gkembellec@dhi-paris.fr?subject=Semantic%20Publishing%20notebook&body=Dear%20Gérald%0A%0AAbout%20your%20notebook...\"> - mail me.</a>\n",
    "</footer>"
   ]
  }
 ],
 "metadata": {
  "colab": {
   "collapsed_sections": [],
   "name": "Adressbuch_nobles.ipynb",
   "provenance": []
  },
  "kernelspec": {
   "display_name": "Python 3 (ipykernel)",
   "language": "python",
   "name": "python3"
  },
  "language_info": {
   "codemirror_mode": {
    "name": "ipython",
    "version": 3
   },
   "file_extension": ".py",
   "mimetype": "text/x-python",
   "name": "python",
   "nbconvert_exporter": "python",
   "pygments_lexer": "ipython3",
   "version": "3.9.7"
  }
 },
 "nbformat": 4,
 "nbformat_minor": 4
}
